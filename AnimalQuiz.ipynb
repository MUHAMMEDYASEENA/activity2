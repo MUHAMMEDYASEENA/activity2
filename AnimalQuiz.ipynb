{
 "cells": [
  {
   "cell_type": "code",
   "execution_count": 1,
   "id": "59d2b9a2",
   "metadata": {},
   "outputs": [
    {
     "name": "stdout",
     "output_type": "stream",
     "text": [
      "password piccker\n",
      "password is : happymother3**\n"
     ]
    }
   ],
   "source": [
    "import random\n",
    "sample_adj=['happy','beautiffull','naughty','lucky','precious','small','gracefull','handsome','standerd']\n",
    "sample_noun=['father','mother','girl','cat','laptop','bike']\n",
    "sample_num=list(range(0,100))\n",
    "sample_punct=['$','%','@','!','&','#','^','*']\n",
    "adj=random.choice(sample_adj)\n",
    "noun=random.choice(sample_noun)\n",
    "num=random.choice(sample_num)\n",
    "pun=random.choice(sample_punct)\n",
    "password=str(adj)+str(noun)+str(num)+str(pun)+str(pun)\n",
    "print(\"password piccker\")\n",
    "print(\"password is :\",password)"
   ]
  },
  {
   "cell_type": "code",
   "execution_count": null,
   "id": "8700228a",
   "metadata": {},
   "outputs": [],
   "source": []
  }
 ],
 "metadata": {
  "kernelspec": {
   "display_name": "Python 3",
   "language": "python",
   "name": "python3"
  },
  "language_info": {
   "codemirror_mode": {
    "name": "ipython",
    "version": 3
   },
   "file_extension": ".py",
   "mimetype": "text/x-python",
   "name": "python",
   "nbconvert_exporter": "python",
   "pygments_lexer": "ipython3",
   "version": "3.8.8"
  }
 },
 "nbformat": 4,
 "nbformat_minor": 5
}
